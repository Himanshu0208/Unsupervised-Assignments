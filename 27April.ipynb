{
 "cells": [
  {
   "cell_type": "markdown",
   "id": "d6d86714",
   "metadata": {},
   "source": [
    "# __Ques 1__\n",
    "1. K-Means :- in this type of clustring algorithm intially there are k points genrated random now clusters are formed on the basis of distance bwteen the randomly genrated points and data points now the randomly genrate point are replaced by the mean of cluster and this goes on until a stage come when the meanof the cluster formed will be equal to the centroids of cluster\n",
    "\n",
    "2. Hererical Clustring - its of 2 type one is agglomarative in which we first treat each data point as a cluster then goes on by combining until only one cluster remains and the other divise in this we first select all points in one cluster then goes dividing then untill each point is itself a cluster now the number of cluster will be determined by dendogram formed.\n",
    "\n",
    "3. DBScan - in this we group the points that are together and the points which are far are treated as noise"
   ]
  },
  {
   "cell_type": "markdown",
   "id": "2bfab13b",
   "metadata": {},
   "source": [
    "# __Ques 2__\n",
    "K-Means :- in this clustring algorithm intially there are k points genrated random which are the only points of k clusters and are the ccentroid of clusters. now clusters are updated on the basis of distance bwteen the randomly genrated points and data points now the randomly genrate point are replaced by the mean of cluster and this goes on until a stage come when the meanof the cluster formed will be equal to the centroids of cluster. "
   ]
  },
  {
   "cell_type": "markdown",
   "id": "2bbf15f8",
   "metadata": {},
   "source": [
    "# __Ques 3__\n",
    "Advantages :-\n",
    "- its good for huge data as its less time complxity\n",
    "- Relatively simple to implement.\n",
    "- Scales to large data sets.\n",
    "- Guarantees convergence.\n",
    "- Can warm-start the positions of centroids.\n",
    "- Easily adapts to new examples.\n",
    " \n",
    "Disadvantage :-\n",
    "- we have to intially give the number of clusters during start\n",
    "- it can not detect noise \n",
    "- it gives wrong result for non linear data points"
   ]
  },
  {
   "cell_type": "markdown",
   "id": "802e700e",
   "metadata": {},
   "source": [
    "# __Ques 4__\n",
    "we determine the opitmal number of cluster in kmeans clustring by using the wcss (within cluster sum square) method or elbow method"
   ]
  },
  {
   "cell_type": "markdown",
   "id": "767365ee",
   "metadata": {},
   "source": [
    "# __Ques 5__\n",
    "KMeans clustering is widely used in image segmentation , document clustring , market segmentation , and image compression"
   ]
  },
  {
   "cell_type": "markdown",
   "id": "dc3f6ba0",
   "metadata": {},
   "source": [
    "# __Ques 6__\n",
    "the out put of a kmeans clusting is simple as it contains an 1d array of digits whose range start from 0 and ends at k-1. at each ith indexth value of cluster.label_ value tell the cluster number of the corresponding ith data point in X. Hence we can draw insight like get to know about the data points cluster number"
   ]
  },
  {
   "cell_type": "markdown",
   "id": "434825bd",
   "metadata": {},
   "source": [
    "# __Ques 7__\n",
    "- selecting the perfect value of k in the starting to decide the number of cluster to be formed this can be solved by using elbow method and wcss method\n",
    "- if the randomly genrated point during the start are genrated very close to each other then their is chance of formation of incorrect cluster to resolve this we can just simply make changes in our random point genrating algo and make it such that it will genrate the k random points far from each other"
   ]
  }
 ],
 "metadata": {
  "kernelspec": {
   "display_name": "Python 3 (ipykernel)",
   "language": "python",
   "name": "python3"
  },
  "language_info": {
   "codemirror_mode": {
    "name": "ipython",
    "version": 3
   },
   "file_extension": ".py",
   "mimetype": "text/x-python",
   "name": "python",
   "nbconvert_exporter": "python",
   "pygments_lexer": "ipython3",
   "version": "3.10.6"
  }
 },
 "nbformat": 4,
 "nbformat_minor": 5
}
