{
 "cells": [
  {
   "cell_type": "markdown",
   "id": "1a0c6531",
   "metadata": {},
   "source": [
    "# __Ques 1__\n",
    "Hererical Clustring is a type of clustring in which the we make a tree like structure of cluster than create a line parallel to the x axis with y intercept as threshold value and the no of time that line cut the tree line perpendicularly will be the number of clusters formed\n",
    "It's diffrenet from other clustring method as it can accomodate any value numerical , catrgorical or any other value"
   ]
  },
  {
   "cell_type": "markdown",
   "id": "7bacd803",
   "metadata": {},
   "source": [
    "# __Ques 2__\n",
    "- Agglomarative clustring = it's a bottom-up approach in which we first assume each data point as a single cluster than goes on merging cluster on the basis of the distance and linkage used and do this until the whole datapoints are converted into a single cluster \n",
    "- Divisive clustring = it's a top-down approach in which we first assume all the data points in a single cluster than divide the cluster on the basis of the distance and linkage used until each data point is represented as a single cluster as a single cluster "
   ]
  },
  {
   "cell_type": "markdown",
   "id": "b55e586f",
   "metadata": {},
   "source": [
    "# __Ques 3__\n",
    "the distance beteween two cluster are defines by the two factors linkage and distance matrix\n",
    "- linkage = it tells us about how to find the distance between two cluster,\n",
    "1. Single linkage - in this the distance between two clusters are formed by their the minimum distance between their points.\n",
    "2. complete linkage - in this the distance between two clusters are formed by their the maximum distance between their points.\n",
    "3. Average linkage - in this the distance between two clusters are formed by their the average distance between all of their points.\n",
    "4. Ward linkage - in this the distance between two clusters are formed by their minimizing the variance of distance between all of their points."
   ]
  },
  {
   "cell_type": "markdown",
   "id": "f950c6de",
   "metadata": {},
   "source": [
    "- distance matrix - its just tell about the formula used to calculate the distance between two points , it can be Euclidean , Manhattan and Mahalanobis distance"
   ]
  },
  {
   "cell_type": "markdown",
   "id": "68389211",
   "metadata": {},
   "source": [
    "# __Ques 4__\n",
    "- to do so we just draw a perpendicular line to y axis with y intercept as threshold and the number of times it cuts the dendrites will bw the number of cluster to be fromed.\n",
    "- we can draw a line perpendicular to the longest unct dendrite and the number of times it will cut the dendrites will be the number of cluster to be formed"
   ]
  },
  {
   "cell_type": "markdown",
   "id": "a6426dcb",
   "metadata": {},
   "source": [
    "# __Ques 5__\n",
    "Dendogram as nothing but a tree like hererical structural diagram that can be usefull in visualizing the ,merging point of clusters with the help of this we can calcuate the number of cluster to be formed\n",
    "it's a 2d graph with points on x axis and distance on y axis and a vertical line starts from each point and then merges at some euclidean distance thus making a cluster and it goes on until on single cluster is there "
   ]
  },
  {
   "cell_type": "markdown",
   "id": "66ff0eff",
   "metadata": {},
   "source": [
    "# __Ques 6__\n",
    "yes, hererical clustering can be usefull for both numerical and categorical data.\n",
    "- numerical = for numerical we should use euclidean , manhattan , minskowski , mahalanbois distances \n",
    "- categorical = for categorical we should use hamming and grower's distance"
   ]
  },
  {
   "cell_type": "markdown",
   "id": "6c0266f4",
   "metadata": {},
   "source": [
    "# __Ques 7__\n",
    "in hererical clustring the noise and outliers get auto matically get seprated and form their own dendrite which is far from other dendrite hence just by visualizing we get to know about the them"
   ]
  }
 ],
 "metadata": {
  "kernelspec": {
   "display_name": "Python 3 (ipykernel)",
   "language": "python",
   "name": "python3"
  },
  "language_info": {
   "codemirror_mode": {
    "name": "ipython",
    "version": 3
   },
   "file_extension": ".py",
   "mimetype": "text/x-python",
   "name": "python",
   "nbconvert_exporter": "python",
   "pygments_lexer": "ipython3",
   "version": "3.10.6"
  }
 },
 "nbformat": 4,
 "nbformat_minor": 5
}
