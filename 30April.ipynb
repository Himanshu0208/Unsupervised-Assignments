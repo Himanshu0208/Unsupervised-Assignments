{
 "cells": [
  {
   "cell_type": "markdown",
   "id": "a9cd2636",
   "metadata": {},
   "source": [
    "# __Ques 1__\n",
    "\n",
    "In clustering evaluation, homogeneity and completeness are two important measures that assess the quality of a clustering algorithm's results. These measures help us understand how well the clusters align with the ground truth or expected clustering assignments.\n",
    "\n",
    "- __Homogeneity__ measures the extent to which each cluster contains only data points that belong to a single class or category. It quantifies the similarity between the clustering results and the true labels. A clustering solution is considered highly homogeneous if each cluster contains only data points from a single class, meaning there is a strong correspondence between the clusters and the true classes.\n",
    "- __Completeness__, on the other hand, measures the extent to which all data points of a particular class are assigned to the same cluster. It quantifies how well the clustering captures all instances of a given class. A clustering solution is considered highly complete if all data points from a particular class are assigned to a single cluster"
   ]
  },
  {
   "cell_type": "markdown",
   "id": "fe23a798",
   "metadata": {},
   "source": [
    "# __Ques 2__\n",
    "The V-measure takes into account both the extent to which clusters contain only data points from a single class (homogeneity) and the extent to which all data points of a class are assigned to the same cluster (completeness). \n",
    "\n",
    "The V-measure is calculated using the following formula:\n",
    "V = 2 * (homogeneity * completeness) / (homogeneity + completeness)"
   ]
  },
  {
   "cell_type": "markdown",
   "id": "caf9e95b",
   "metadata": {},
   "source": [
    "# __Ques 3__\n",
    "The range of Silhouette Coefficient values is between -1 and 1:\n",
    "\n",
    "The Silhouette Coefficient for an individual data point is calculated as follows:\n",
    "\n",
    "- Compute the average distance between the data point and all other data points within the same cluster. Denote this as \"a_i\".\n",
    "\n",
    "- For each neighboring cluster (clusters other than the one to which the data point belongs), compute the average distance between the data point and all data points in that neighboring cluster. Denote the minimum of these average distances as \"b_i\".\n",
    "\n",
    "- The Silhouette Coefficient for the data point is given by: silhouette_i = (b_i - a_i) / max(a_i, b_i)."
   ]
  },
  {
   "cell_type": "markdown",
   "id": "7d9a2fde",
   "metadata": {},
   "source": [
    "# __Ques 4__\n",
    "The Davies-Bouldin Index (DBI) is a clustering evaluation metric that quantifies the quality of a clustering result based on the compactness of clusters and the separation between them. It measures the average similarity between each cluster and its most similar neighboring cluster, relative to their internal distances.\n",
    "\n",
    "The DBI is calculated as follows:\n",
    "\n",
    "- For each cluster i, compute the centroid, which represents the average position of all data points in that cluster.\n",
    "\n",
    "- Compute the within-cluster scatter for each cluster i, which is a measure of the compactness or dispersion of data points within that cluster. It can be calculated using a distance metric such as Euclidean distance or any other appropriate distance measure.\n",
    "\n",
    "- Compute the pairwise distance between the centroids of all clusters. Denote the distance between the centroid of cluster i and the centroid of cluster j as \"d(i, j)\".\n",
    "\n",
    "- For each cluster i, find the cluster j (j ≠ i) that has the most similar centroid, i.e., the smallest \"d(i, j)\" value.\n",
    "\n",
    "- Compute the cluster separation score for each cluster i using the formula: R(i) = (scatter(i) + scatter(j)) / d(i, j), where scatter(i) represents the within-cluster scatter of cluster i.\n",
    "\n",
    "- Compute the DBI as the average of all cluster separation scores: DBI = (1/n) * ∑(i=1 to n) R(i), where n is the total number of clusters.\n",
    "\n",
    "The range of DBI values is from 0 to positive infinity."
   ]
  },
  {
   "cell_type": "markdown",
   "id": "743648cc",
   "metadata": {},
   "source": [
    "# __Ques 5__\n",
    "Yes, it is possible for a clustering result to have high homogeneity but low completeness. This situation occurs when the clusters are internally homogeneous, meaning each cluster contains data points from a single class, but some classes are divided into multiple clusters, leading to incomplete representation of those classes within individual clusters."
   ]
  },
  {
   "cell_type": "code",
   "execution_count": 16,
   "id": "46cdc197",
   "metadata": {},
   "outputs": [
    {
     "name": "stdout",
     "output_type": "stream",
     "text": [
      "Homogeneity: 0.6666666666666669\n",
      "Completeness: 0.420619835714305\n"
     ]
    }
   ],
   "source": [
    "from sklearn.metrics import homogeneity_score, completeness_score\n",
    "from sklearn.cluster import KMeans\n",
    "\n",
    "# True labels\n",
    "true_labels = [0, 0 , 0, 1 , 1 , 1]\n",
    "\n",
    "# Clustering results\n",
    "cluster_labels = [0, 0, 1 , 1 , 2, 2]\n",
    "\n",
    "# Calculate homogeneity and completeness\n",
    "homogeneity = homogeneity_score(true_labels, cluster_labels)\n",
    "completeness = completeness_score(true_labels, cluster_labels)\n",
    "\n",
    "print(\"Homogeneity:\", homogeneity)\n",
    "print(\"Completeness:\", completeness)"
   ]
  },
  {
   "cell_type": "markdown",
   "id": "3848c176",
   "metadata": {},
   "source": [
    "# __Ques 6__\n",
    "- Calculate the V-measure score for different values of k (the number of clusters) using the V-measure formula.\n",
    "- Select the value of k that maximizes the V-measure score, as this indicates the optimal number of clusters."
   ]
  },
  {
   "cell_type": "markdown",
   "id": "d31c2e79",
   "metadata": {},
   "source": [
    "# __Ques 7__\n",
    "Advantages of the Silhouette Coefficient:\n",
    "- Considers both compactness and separation \n",
    "- Suitable for arbitrary-shaped clusters\n",
    "- Computationally efficient\n",
    "<br>\n",
    "<br>\n",
    "Disadvantages of the Silhouette Coefficient:\n",
    "- Sensitive to the number of clusters\n",
    "- Limited to Euclidean distance\n",
    "- Lack of sensitivity to cluster density"
   ]
  },
  {
   "cell_type": "markdown",
   "id": "38283f7f",
   "metadata": {},
   "source": [
    "# __Ques 8__\n",
    "- Sensitivity to cluster shape and size => Overcoming this limitation requires either preprocessing techniques to address such variations or using alternative evaluation metrics that are more robust to different cluster characteristics, such as density-based evaluation measures like the DBSCAN clustering evaluation.\n",
    "- Dependency on the number of clusters => overcome this limitation is to use techniques such as the elbow method or silhouette analysis to estimate the optimal number of clusters before calculating the DBI.\n",
    "- Sensitivity to noise and outliers => Preprocessing techniques like outlier detection and removal can be applied to mitigate this issue and improve the robustness of the DBI."
   ]
  },
  {
   "cell_type": "markdown",
   "id": "6dc58439",
   "metadata": {},
   "source": [
    "# __Ques 9__\n",
    "The relationship between homogeneity, completeness, and the V-measure is that the V-measure is a combination of both homogeneity and completeness. Homogeneity measures how much the samples in a cluster are similar, while completeness measures how much all the samples of a given class are assigned to the same cluster. The V-measure is the harmonic mean of homogeneity and completeness, and it provides a single score that represents the overall quality of the clustering result.\n",
    "<br><br>\n",
    "Yes, homogeneity, completeness, and the V-measure can have different values for the same clustering result."
   ]
  },
  {
   "cell_type": "code",
   "execution_count": 17,
   "id": "598a69ae",
   "metadata": {},
   "outputs": [
    {
     "name": "stdout",
     "output_type": "stream",
     "text": [
      "Homogeneity: 0.6666666666666669\n",
      "Completeness: 0.420619835714305\n",
      "V-measure: 0.5158037429793889\n"
     ]
    }
   ],
   "source": [
    "from sklearn import metrics\n",
    "\n",
    "labels_true = [0, 0, 0, 1, 1, 1]\n",
    "labels_pred = [0, 0, 1, 1, 2, 2]\n",
    "\n",
    "homogeneity = metrics.homogeneity_score(labels_true, labels_pred)\n",
    "completeness = metrics.completeness_score(labels_true, labels_pred)\n",
    "v_measure = metrics.v_measure_score(labels_true, labels_pred)\n",
    "\n",
    "print(\"Homogeneity:\", homogeneity)\n",
    "print(\"Completeness:\", completeness)\n",
    "print(\"V-measure:\", v_measure)"
   ]
  },
  {
   "cell_type": "markdown",
   "id": "8e180214",
   "metadata": {},
   "source": [
    "# __Ques 10__\n",
    "While comparing clustering algorithms using the Silhouette Coefficient, there are a few potential issues to watch out for:\n",
    "\n",
    "- Dataset suitability: Ensure that the dataset is suitable for the Silhouette Coefficient calculation. The Silhouette Coefficient assumes a well-defined distance metric, and it may not perform well on datasets with complex or non-linear relationships between data points.\n",
    "\n",
    "- Parameter settings: Different clustering algorithms have various parameters that can affect their performance and the resulting Silhouette Coefficient. Make sure to carefully select and optimize the parameters for each algorithm to obtain reliable and meaningful comparisons.\n",
    "\n",
    "- Number of clusters: The Silhouette Coefficient can be influenced by the number of clusters in the dataset. When comparing algorithms, it is crucial to ensure that they are using the same number of clusters or have a mechanism to determine the optimal number of clusters."
   ]
  },
  {
   "cell_type": "markdown",
   "id": "94e3b448",
   "metadata": {},
   "source": [
    "# __Ques 11__\n",
    "The DBI is calculated as follows:\n",
    "\n",
    "- For each cluster i, compute the centroid, which represents the average position of all data points in that cluster.\n",
    "\n",
    "- Compute the within-cluster scatter for each cluster i, which is a measure of the compactness or dispersion of data points within that cluster. It can be calculated using a distance metric such as Euclidean distance or any other appropriate distance measure.\n",
    "\n",
    "- Compute the pairwise distance between the centroids of all clusters. Denote the distance between the centroid of cluster i and the centroid of cluster j as \"d(i, j)\".\n",
    "\n",
    "- For each cluster i, find the cluster j (j ≠ i) that has the most similar centroid, i.e., the smallest \"d(i, j)\" value.\n",
    "\n",
    "- Compute the cluster separation score for each cluster i using the formula: R(i) = (scatter(i) + scatter(j)) / d(i, j), where scatter(i) represents the within-cluster scatter of cluster i.\n",
    "\n",
    "- Compute the DBI as the average of all cluster separation scores: DBI = (1/n) * ∑(i=1 to n) R(i), where n is the total number of clusters."
   ]
  },
  {
   "cell_type": "markdown",
   "id": "635d7285",
   "metadata": {},
   "source": [
    "Assumption\n",
    "- Euclidean Distance\n",
    "- Similar Density\n",
    "- Optimal Number of clusters"
   ]
  },
  {
   "cell_type": "markdown",
   "id": "ffc3cb4e",
   "metadata": {},
   "source": [
    "# __Ques 12__\n",
    "Yes, the Silhouette Coefficient can be used to evaluate hierarchical clustering algorithms. Hierarchical clustering algorithms produce a hierarchical structure of clusters, often represented as a dendrogram. The Silhouette Coefficient can be applied to evaluate the clustering quality at different levels of the dendrogram or to assess the final clustering result after selecting a specific number of clusters."
   ]
  }
 ],
 "metadata": {
  "kernelspec": {
   "display_name": "Python 3 (ipykernel)",
   "language": "python",
   "name": "python3"
  },
  "language_info": {
   "codemirror_mode": {
    "name": "ipython",
    "version": 3
   },
   "file_extension": ".py",
   "mimetype": "text/x-python",
   "name": "python",
   "nbconvert_exporter": "python",
   "pygments_lexer": "ipython3",
   "version": "3.10.6"
  }
 },
 "nbformat": 4,
 "nbformat_minor": 5
}
